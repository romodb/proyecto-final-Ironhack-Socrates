{
 "cells": [
  {
   "cell_type": "code",
   "execution_count": 16,
   "metadata": {},
   "outputs": [],
   "source": [
    "import pandas as pd"
   ]
  },
  {
   "cell_type": "code",
   "execution_count": 24,
   "metadata": {},
   "outputs": [],
   "source": [
    "# Importamos el Csv original: \n",
    "murcia_sucio = pd.read_csv('C:/Users/Ro/OneDrive/Escritorio/No se como llamarlo/Ironhack/Proyecto final/InventarioObrasArte-CARM-Transparencia.csv', delimiter=';', encoding = 'ISO-8859-1')\n",
    "# El Csv tenía un error y no permitía leerlo, he usado chardet para ver como estaba codificado y hacer modificaciones de ser necesario. El error persistía y apuntaba a una línea concreta, la 1282, se ha revisado y tenia un \";\" extra. Se ha corregido del Csv original y con ello ya a ha funcionado."
   ]
  },
  {
   "cell_type": "code",
   "execution_count": null,
   "metadata": {},
   "outputs": [
    {
     "name": "stdout",
     "output_type": "stream",
     "text": [
      "Requirement already satisfied: chardet in c:\\users\\ro\\appdata\\local\\programs\\python\\python312\\lib\\site-packages (5.2.0)\n",
      "Note: you may need to restart the kernel to use updated packages.\n"
     ]
    },
    {
     "name": "stderr",
     "output_type": "stream",
     "text": [
      "\n",
      "[notice] A new release of pip is available: 24.3.1 -> 25.0\n",
      "[notice] To update, run: python.exe -m pip install --upgrade pip\n"
     ]
    }
   ],
   "source": [
    "pip install chardet"
   ]
  },
  {
   "cell_type": "code",
   "execution_count": 19,
   "metadata": {},
   "outputs": [],
   "source": [
    "\n",
    "import chardet"
   ]
  },
  {
   "cell_type": "code",
   "execution_count": null,
   "metadata": {},
   "outputs": [
    {
     "name": "stdout",
     "output_type": "stream",
     "text": [
      "{'encoding': 'utf-8', 'confidence': 0.99, 'language': ''}\n"
     ]
    }
   ],
   "source": [
    "with open('C:/Users/Ro/OneDrive/Escritorio/No se como llamarlo/Ironhack/Proyecto final/InventarioObrasArte-CARM-Transparencia.csv', 'rb') as f:\n",
    "    result = chardet.detect(f.read())\n",
    "    print(result)"
   ]
  },
  {
   "cell_type": "markdown",
   "metadata": {},
   "source": [
    "## Limpieza del Csv:"
   ]
  },
  {
   "cell_type": "code",
   "execution_count": 21,
   "metadata": {},
   "outputs": [
    {
     "name": "stdout",
     "output_type": "stream",
     "text": [
      "<class 'pandas.core.frame.DataFrame'>\n",
      "RangeIndex: 1640 entries, 0 to 1639\n",
      "Data columns (total 16 columns):\n",
      " #   Column               Non-Null Count  Dtype  \n",
      "---  ------               --------------  -----  \n",
      " 0   Nï¿½_INVENTARIO      1640 non-null   int64  \n",
      " 1   TITULO               1603 non-null   object \n",
      " 2   NOMBRE_AUTOR         1541 non-null   object \n",
      " 3   FECHA_CREACION       435 non-null    object \n",
      " 4   FONDO                1639 non-null   float64\n",
      " 5   ANCHO                1640 non-null   float64\n",
      " 6   ALTO                 1640 non-null   float64\n",
      " 7   TECNICA              194 non-null    object \n",
      " 8   TIPO                 1640 non-null   object \n",
      " 9   MATERIAL_BASE        822 non-null    object \n",
      " 10  MATERIAL_SECUNDARIO  894 non-null    object \n",
      " 11  TEMATICA             811 non-null    object \n",
      " 12  ESTADO_PATRIMONIAL   1640 non-null   object \n",
      " 13  USUARIO              74 non-null     object \n",
      " 14  ALTA                 1639 non-null   object \n",
      " 15  VALOR_ADQUISICION    1640 non-null   float64\n",
      "dtypes: float64(4), int64(1), object(11)\n",
      "memory usage: 205.1+ KB\n"
     ]
    }
   ],
   "source": [
    "# Vista previa:\n",
    "murcia_sucio.info()"
   ]
  },
  {
   "cell_type": "code",
   "execution_count": null,
   "metadata": {},
   "outputs": [],
   "source": [
    "# Se ha creado un archivo nuevo para visualizar los datos de forma comoda en Vscode. Hay algunos elementos que contienen caracteres especiales, en la medida de los posible se corregiran:\n",
    "# Todos los nombres de columnas en minusculas: \n",
    "murcia_sucio.columns = murcia_sucio.columns.str.lower()\n",
    "\n",
    "# ¿'nº_inventario'? va a pasar a 'id_obra':\n",
    "murcia_sucio = murcia_sucio.rename(columns={'nï¿½_inventario' : 'id_inventario'})\n",
    "\n",
    "# Verificamos estado final temporal:\n",
    "murcia_sucio"
   ]
  },
  {
   "cell_type": "code",
   "execution_count": null,
   "metadata": {},
   "outputs": [
    {
     "name": "stdout",
     "output_type": "stream",
     "text": [
      "El numero de autores unicos es nombre_autor\n",
      "MEDINA VERA, INOCENCIO      132\n",
      "ANONIMO                      73\n",
      "FLORES, PEDRO                54\n",
      "BOVET, MATEO                 47\n",
      "LUCAS, PEPE                  30\n",
      "                           ... \n",
      "ANDREU MAURANDI, DOLORES      1\n",
      "BORONAT, M.                   1\n",
      "MERCADO, JUAN DE DIOS         1\n",
      "DELGADO, MANUEL               1\n",
      "CONESA, PACO                  1\n",
      "Name: count, Length: 470, dtype: int64 y el titulos es titulo\n",
      "SIN TITULO                             137\n",
      "VARIOS                                 129\n",
      "CUADROS MUNICIPIOS REGION DE MURCIA     45\n",
      "PAISAJE                                 37\n",
      "BODEGON                                 13\n",
      "                                      ... \n",
      "RELOJ DE PARED                           1\n",
      "CONSEJERIA DE OBRAS PUBLICAS             1\n",
      "CALDERA                                  1\n",
      "MARINA (DE JORGE FIN)                    1\n",
      "CRUCE DE GEOMETRIAS                      1\n",
      "Name: count, Length: 1092, dtype: int64\n"
     ]
    }
   ],
   "source": [
    "# Veamos los datos únicos:\n",
    "# En el df:\n",
    "murcia_sucio.nunique()\n",
    "# Cosillas a comentar, hay un 1640 valores, de ellos solo 1092 tienen titulo (vamos a estudiar esto), con los autores pasa algo parecido:\n",
    "# Por columna: \n",
    "recuento_titulo = murcia_sucio['titulo'].value_counts() # Hay 1092 valores unicos, 137 valores sin titulo, 129 ¿llamado varios?, 45 cuadros municipio region de murcia... Vamos, hay muchas obras con un mismo titulo.\n",
    "recuento_autores = murcia_sucio['nombre_autor'].value_counts() # Con los autores pasa algo parecido que con las obras, hay 470 unicos, el mas prolifico fue \"Medina Vera, Inocencio\" con 132 valores, seguido por \"Anonimo\" con 73 valores y \"Flores, Pedro\" con 54 valores\n",
    "print(f\"El numero de autores unicos es {recuento_autores} y el titulos es {recuento_titulo}\")\n",
    "# #"
   ]
  },
  {
   "cell_type": "code",
   "execution_count": null,
   "metadata": {},
   "outputs": [],
   "source": [
    "# Limpieza de nulos:\n",
    "# \n",
    "# #"
   ]
  },
  {
   "cell_type": "code",
   "execution_count": null,
   "metadata": {},
   "outputs": [],
   "source": [
    "# Agrupado y creacion de salas por \"tematica\":\n",
    "# \n",
    "# #"
   ]
  }
 ],
 "metadata": {
  "kernelspec": {
   "display_name": "Python 3",
   "language": "python",
   "name": "python3"
  },
  "language_info": {
   "codemirror_mode": {
    "name": "ipython",
    "version": 3
   },
   "file_extension": ".py",
   "mimetype": "text/x-python",
   "name": "python",
   "nbconvert_exporter": "python",
   "pygments_lexer": "ipython3",
   "version": "3.12.5"
  }
 },
 "nbformat": 4,
 "nbformat_minor": 2
}
